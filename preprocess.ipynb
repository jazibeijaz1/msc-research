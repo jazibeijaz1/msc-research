{
 "cells": [
  {
   "cell_type": "code",
   "execution_count": 45,
   "metadata": {
    "collapsed": true
   },
   "outputs": [],
   "source": [
    "import string\n",
    "\n",
    "import pandas as pd\n",
    "\n",
    "paths = [\"train\", \"dev\", \"test\"]\n",
    "\n",
    "for path in paths:\n",
    "    taskb_data_df = pd.read_csv(f\"./Dataset/{path}/subtaskB_data.csv\")\n",
    "    taskb_data_df.columns = [\"id\", \"false_sent\", \"explanation0\", \"explanation1\", \"explanation2\"]\n",
    "    taskb_answers_df = pd.read_csv(f\"./Dataset/{path}/subtaskB_answers.csv\")\n",
    "    merged_df = taskb_data_df.join(taskb_answers_df.set_index(\"id\"), on=\"id\", how=\"inner\")\n",
    "    merged_df[\"connector\"] = [\" This is false because \"] * len(taskb_data_df)\n",
    "    mapping = {\"A\":0, \"B\":1, \"C\":2}\n",
    "    merged_df[\"label\"] = [mapping.get(x) for x in merged_df[\"label\"]]\n",
    "    merged_df = merged_df[[\"id\", \"false_sent\", \"connector\", \"explanation0\", \"explanation1\", \"explanation2\", \"label\"]]\n",
    "    merged_df.to_csv(f\"./ProcessedDataset/subtask_b/subtask_b_{path}.csv\", index=False)\n",
    "\n",
    "taskb_train_df = pd.read_csv(\"./ProcessedDataset/subtask_b/subtask_b_train.csv\")\n",
    "taskb_dev_df = pd.read_csv(\"./ProcessedDataset/subtask_b/subtask_b_dev.csv\")\n",
    "taskb_merged_train_df = taskb_train_df.append(taskb_dev_df, ignore_index=True)\n",
    "taskb_merged_train_df.to_csv(\"./ProcessedDataset/subtask_b/subtask_b_combined_train.csv\", index=False)"
   ]
  },
  {
   "cell_type": "code",
   "execution_count": 49,
   "outputs": [],
   "source": [
    "for path in paths:\n",
    "    taska_data_df = pd.read_csv(f\"./Dataset/{path}/subtaskA_data.csv\")\n",
    "    taska_answers_df = pd.read_csv(f\"./Dataset/{path}/subtaskA_answers.csv\")\n",
    "    merged_df = taska_data_df.join(taska_answers_df.set_index(\"id\"), on=\"id\", how=\"inner\")\n",
    "    merged_df.to_csv(f\"./ProcessedDataset/subtask_a/subtask_a_{path}.csv\", index=False)\n",
    "\n",
    "taska_train_df = pd.read_csv(\"./ProcessedDataset/subtask_a/subtask_a_train.csv\")\n",
    "taska_dev_df = pd.read_csv(\"./ProcessedDataset/subtask_a/subtask_a_dev.csv\")\n",
    "taska_merged_train_df = taska_train_df.append(taska_dev_df, ignore_index=True)\n",
    "taska_merged_train_df.to_csv(\"./ProcessedDataset/subtask_a/subtask_a_combined_train.csv\", index=False)"
   ],
   "metadata": {
    "collapsed": false,
    "pycharm": {
     "name": "#%%\n"
    }
   }
  },
  {
   "cell_type": "code",
   "execution_count": 86,
   "outputs": [],
   "source": [
    "import string\n",
    "\n",
    "punct = string.punctuation\n",
    "transtab = str.maketrans(dict.fromkeys(punct, ''))\n",
    "\n",
    "taskb_train_df = pd.read_csv(\"./ProcessedDataset/subtask_b/subtask_b_combined_train.csv\")\n",
    "taskb_test_df = pd.read_csv(\"./ProcessedDataset/subtask_b/subtask_b_test.csv\")\n",
    "taskb_train_df = taskb_train_df.dropna()\n",
    "taskb_test_df = taskb_test_df.dropna()\n",
    "column_names = [\"false_sent\",\"connector\",\"explanation0\",\"explanation1\",\"explanation2\"]\n",
    "\n",
    "for column in column_names:\n",
    "    taskb_train_df[column] = 'cylinderheart'.join(taskb_train_df[column].tolist()).translate(transtab).split('cylinderheart')\n",
    "    taskb_test_df[column] = 'cylinderheart'.join(taskb_test_df[column].tolist()).translate(transtab).split('cylinderheart')\n",
    "\n",
    "taskb_train_df.to_csv(\"./ProcessedDataset/subtask_b/subtask_b_cleaned_train.csv\", index=False)\n",
    "taskb_test_df.to_csv(\"./ProcessedDataset/subtask_b/subtask_b_cleaned_test.csv\", index=False)\n",
    "\n",
    "taska_train_df = pd.read_csv(\"./ProcessedDataset/subtask_a/subtask_a_combined_train.csv\")\n",
    "taska_test_df = pd.read_csv(\"./ProcessedDataset/subtask_a/subtask_a_test.csv\")\n",
    "taska_train_df = taska_train_df.dropna()\n",
    "taska_test_df = taska_test_df.dropna()\n",
    "column_names = [\"sent0\",\"sent1\"]\n",
    "\n",
    "for column in column_names:\n",
    "    taska_train_df[column] = 'cylinderheart'.join(taska_train_df[column].tolist()).translate(transtab).split('cylinderheart')\n",
    "    taska_test_df[column] = 'cylinderheart'.join(taska_test_df[column].tolist()).translate(transtab).split('cylinderheart')\n",
    "\n",
    "taska_train_df.to_csv(\"./ProcessedDataset/subtask_a/subtask_a_cleaned_train.csv\", index=False)\n",
    "taska_test_df.to_csv(\"./ProcessedDataset/subtask_a/subtask_a_cleaned_test.csv\", index=False)"
   ],
   "metadata": {
    "collapsed": false,
    "pycharm": {
     "name": "#%%\n"
    }
   }
  },
  {
   "cell_type": "code",
   "execution_count": 98,
   "outputs": [],
   "source": [
    "paths = [\"train\", \"test\"]\n",
    "\n",
    "for path in paths:\n",
    "    taskb_df = pd.read_csv(f\"./ProcessedDataset/subtask_b/subtask_b_combined_{path}.csv\")\n",
    "    taska_df = pd.read_csv(f\"./ProcessedDataset/subtask_a/subtask_a_combined_{path}.csv\")\n",
    "    dictonary = {0:\"sent1\", 1:\"sent0\"}\n",
    "    correct_sents = [taska_df[dictonary.get(label)][index] for index, label in enumerate(taska_df[\"label\"])]\n",
    "    taskb_df[\"connector\"] = correct_sents\n",
    "    taskb_df.to_csv(f\"./ProcessedDataset/subtask_b/subtask_b_hint_{path}.csv\", index=False)"
   ],
   "metadata": {
    "collapsed": false,
    "pycharm": {
     "name": "#%%\n"
    }
   }
  },
  {
   "cell_type": "code",
   "execution_count": 18,
   "outputs": [
    {
     "name": "stderr",
     "output_type": "stream",
     "text": [
      "C:\\Users\\jazib\\AppData\\Local\\Temp/ipykernel_8048/2550368718.py:7: SettingWithCopyWarning: \n",
      "A value is trying to be set on a copy of a slice from a DataFrame\n",
      "\n",
      "See the caveats in the documentation: https://pandas.pydata.org/pandas-docs/stable/user_guide/indexing.html#returning-a-view-versus-a-copy\n",
      "  taska_df[\"sent1\"][7822] = \"LeBron James is an American professional basketball player\"\n"
     ]
    },
    {
     "data": {
      "text/plain": "        id                                                     sent0  \\\n7822  7822  LeBron James is an American professional football player   \n\n                                                           sent1  label  \n7822  LeBron James is an American professional basketball player      0  ",
      "text/html": "<div>\n<style scoped>\n    .dataframe tbody tr th:only-of-type {\n        vertical-align: middle;\n    }\n\n    .dataframe tbody tr th {\n        vertical-align: top;\n    }\n\n    .dataframe thead th {\n        text-align: right;\n    }\n</style>\n<table border=\"1\" class=\"dataframe\">\n  <thead>\n    <tr style=\"text-align: right;\">\n      <th></th>\n      <th>id</th>\n      <th>sent0</th>\n      <th>sent1</th>\n      <th>label</th>\n    </tr>\n  </thead>\n  <tbody>\n    <tr>\n      <th>7822</th>\n      <td>7822</td>\n      <td>LeBron James is an American professional football player</td>\n      <td>LeBron James is an American professional basketball player</td>\n      <td>0</td>\n    </tr>\n  </tbody>\n</table>\n</div>"
     },
     "execution_count": 18,
     "metadata": {},
     "output_type": "execute_result"
    }
   ],
   "source": [
    "import pandas as pd\n",
    "\n",
    "taska_df = pd.read_csv(f\"./ProcessedDataset/subtask_a/subtask_a_train.csv\")\n",
    "# taska_df = pd.read_csv(f\"./Dataset/train/subtaskA_answers.csv\")\n",
    "# taska_df.columns = [\"id\", \"false_sent\", \"correct_sent\", \"explanation0\", \"explanation1\", \"explanation2\", \"label\"]\n",
    "pd.options.display.max_colwidth = 100\n",
    "taska_df[\"sent1\"][7822] = \"LeBron James is an American professional basketball player\"\n",
    "taska_df[7822:7823]\n",
    "# taskb_df = pd.read_csv(f\"./ProcessedDataset/subtask_b/subtask_b_combined_train.csv\")\n",
    "# taskb_df.loc[44]"
   ],
   "metadata": {
    "collapsed": false,
    "pycharm": {
     "name": "#%%\n"
    }
   }
  },
  {
   "cell_type": "code",
   "execution_count": null,
   "outputs": [],
   "source": [],
   "metadata": {
    "collapsed": false,
    "pycharm": {
     "name": "#%%\n"
    }
   }
  }
 ],
 "metadata": {
  "kernelspec": {
   "display_name": "Python 3",
   "language": "python",
   "name": "python3"
  },
  "language_info": {
   "codemirror_mode": {
    "name": "ipython",
    "version": 2
   },
   "file_extension": ".py",
   "mimetype": "text/x-python",
   "name": "python",
   "nbconvert_exporter": "python",
   "pygments_lexer": "ipython2",
   "version": "2.7.6"
  }
 },
 "nbformat": 4,
 "nbformat_minor": 0
}